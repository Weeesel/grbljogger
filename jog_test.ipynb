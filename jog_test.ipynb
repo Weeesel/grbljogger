{
 "cells": [
  {
   "cell_type": "code",
   "execution_count": null,
   "id": "parliamentary-favor",
   "metadata": {},
   "outputs": [],
   "source": [
    "import ipywidgets\n",
    "from jog import *"
   ]
  },
  {
   "cell_type": "code",
   "execution_count": null,
   "id": "convinced-purchase",
   "metadata": {},
   "outputs": [],
   "source": []
  },
  {
   "cell_type": "code",
   "execution_count": 42,
   "id": "dried-intervention",
   "metadata": {},
   "outputs": [
    {
     "data": {
      "application/vnd.jupyter.widget-view+json": {
       "model_id": "2e979425e4ce44de83fcb5c32c22ae47",
       "version_major": 2,
       "version_minor": 0
      },
      "text/plain": [
       "Label(value='<init>')"
      ]
     },
     "metadata": {},
     "output_type": "display_data"
    },
    {
     "name": "stderr",
     "output_type": "stream",
     "text": [
      "Exception in thread Thread-5:\n",
      "Traceback (most recent call last):\n",
      "  File \"/usr/lib/python3.9/threading.py\", line 954, in _bootstrap_inner\n",
      "    self.run()\n",
      "  File \"/usr/lib/python3.9/threading.py\", line 892, in run\n",
      "    self._target(*self._args, **self._kwargs)\n",
      "  File \"/home/kali/Desktop/cnc/x360/xbox360controller/xbox360controller/controller.py\", line 274, in _event_loop\n",
      "    event = self.get_event()\n",
      "  File \"/home/kali/Desktop/cnc/x360/xbox360controller/xbox360controller/controller.py\", line 282, in get_event\n",
      "    buf = self._dev_file.read(8)\n",
      "OSError: [Errno 19] No such device\n"
     ]
    }
   ],
   "source": [
    "wlabel = ipywidgets.Label(value=\"<init>\")\n",
    "display(wlabel)\n",
    "\n",
    "def grbl_send(s):\n",
    "    wlabel.value = s\n"
   ]
  },
  {
   "cell_type": "code",
   "execution_count": 35,
   "id": "answering-gender",
   "metadata": {},
   "outputs": [
    {
     "data": {
      "application/vnd.jupyter.widget-view+json": {
       "model_id": "755b23799322418f86e90c2d9d66239a",
       "version_major": 2,
       "version_minor": 0
      },
      "text/plain": [
       "Label(value='<init>')"
      ]
     },
     "metadata": {},
     "output_type": "display_data"
    },
    {
     "name": "stdout",
     "output_type": "stream",
     "text": [
      "b'\\r\\n'\n",
      "b\"Grbl 1.1h ['$' for help]\\r\\n\"\n",
      "b'ok\\r\\n'\n"
     ]
    },
    {
     "name": "stderr",
     "output_type": "stream",
     "text": [
      "Exception in thread Thread-4:\n",
      "Traceback (most recent call last):\n",
      "  File \"/usr/lib/python3.9/threading.py\", line 954, in _bootstrap_inner\n",
      "    self.run()\n",
      "  File \"/usr/lib/python3.9/threading.py\", line 892, in run\n",
      "    self._target(*self._args, **self._kwargs)\n",
      "  File \"/home/kali/Desktop/cnc/x360/xbox360controller/xbox360controller/controller.py\", line 274, in _event_loop\n",
      "    event = self.get_event()\n",
      "  File \"/home/kali/Desktop/cnc/x360/xbox360controller/xbox360controller/controller.py\", line 282, in get_event\n",
      "    buf = self._dev_file.read(8)\n",
      "OSError: [Errno 19] No such device\n"
     ]
    }
   ],
   "source": [
    "wlabel = ipywidgets.Label(value=\"<init>\")\n",
    "display(wlabel)\n",
    "\n",
    "with serial.Serial('/dev/ttyUSB0', 115200) as ser:\n",
    "    # GRBL Welcome.\n",
    "    print(ser.readline())\n",
    "    print(ser.readline())\n",
    "    \n",
    "    # Unlock.\n",
    "    ser.write('$X\\r\\n'.encode())\n",
    "    print(ser.readline())\n",
    "    \n",
    "    def grbl_send(s):\n",
    "        b = (s+'\\n').encode()\n",
    "        wlabel.value = s\n",
    "        ser.write(b)\n",
    "        ret = ser.readline()\n",
    "        # print(ret, ret.hex())\n",
    "        if ret != b'ok\\r\\n':\n",
    "            raise Exception(\"Fuck, shit!\", s, ret)\n",
    "\n",
    "    main()"
   ]
  },
  {
   "cell_type": "code",
   "execution_count": 9,
   "id": "respective-reunion",
   "metadata": {},
   "outputs": [
    {
     "name": "stdout",
     "output_type": "stream",
     "text": [
      "b'ok\\r\\n' 6f6b0d0a\n"
     ]
    }
   ],
   "source": [
    "ret = b\"ok\\r\\n\"\n",
    "print(ret, ret.hex())"
   ]
  }
 ],
 "metadata": {
  "kernelspec": {
   "display_name": "Python 3",
   "language": "python",
   "name": "python3"
  },
  "language_info": {
   "codemirror_mode": {
    "name": "ipython",
    "version": 3
   },
   "file_extension": ".py",
   "mimetype": "text/x-python",
   "name": "python",
   "nbconvert_exporter": "python",
   "pygments_lexer": "ipython3",
   "version": "3.9.2"
  }
 },
 "nbformat": 4,
 "nbformat_minor": 5
}
