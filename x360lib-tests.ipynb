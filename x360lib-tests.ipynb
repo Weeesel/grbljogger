{
 "cells": [
  {
   "cell_type": "code",
   "execution_count": 2,
   "id": "recent-isolation",
   "metadata": {},
   "outputs": [],
   "source": [
    "from dataclasses import dataclass\n"
   ]
  },
  {
   "cell_type": "code",
   "execution_count": 36,
   "id": "bound-martin",
   "metadata": {
    "tags": []
   },
   "outputs": [],
   "source": [
    "from xbox360controller import Xbox360Controller\n",
    "\n",
    "controller = Xbox360Controller(0, axis_threshold=0.2)\n"
   ]
  },
  {
   "cell_type": "code",
   "execution_count": 2,
   "id": "promotional-girlfriend",
   "metadata": {},
   "outputs": [
    {
     "data": {
      "text/plain": [
       "'LED_BLINK    LED_BLINK_ONCE_PREV    LED_BLINK_PREV    LED_BLINK_SLOW    LED_BLINK_SLOW_PREV    LED_BOTTOM_LEFT_BLINK_ON    LED_BOTTOM_LEFT_ON    LED_BOTTOM_RIGHT_BLINK_ON    LED_BOTTOM_RIGHT_ON    LED_OFF    LED_ROTATE    LED_ROTATE_TWO    LED_TOP_LEFT_BLINK_ON    LED_TOP_LEFT_ON    LED_TOP_RIGHT_BLINK_ON    LED_TOP_RIGHT_ON    axes    axis_callback    axis_l    axis_r    axis_threshold    button_a    button_b    button_mode    button_select    button_start    button_thumb_l    button_thumb_r    button_trigger_l    button_trigger_r    button_x    button_y    buttons    close    driver_version    event_timeout    get_available    get_event    has_led    has_rumble    hat    index    info    name    num_axes    num_buttons    process_event    raw_mode    set_led    set_rumble    trigger_l    trigger_r'"
      ]
     },
     "execution_count": 2,
     "metadata": {},
     "output_type": "execute_result"
    }
   ],
   "source": [
    "\"    \".join(d for d in dir(controller) if d[0]!='_')"
   ]
  },
  {
   "cell_type": "code",
   "execution_count": 3,
   "id": "interim-trout",
   "metadata": {},
   "outputs": [
    {
     "data": {
      "text/plain": [
       "True"
      ]
     },
     "execution_count": 3,
     "metadata": {},
     "output_type": "execute_result"
    }
   ],
   "source": [
    "controller.set_rumble(0.5,0.5,1000)"
   ]
  },
  {
   "cell_type": "code",
   "execution_count": 249,
   "id": "protective-romantic",
   "metadata": {},
   "outputs": [
    {
     "name": "stdout",
     "output_type": "stream",
     "text": [
      "0 0\n"
     ]
    }
   ],
   "source": [
    "ax = controller.axis_l\n",
    "print(ax.x, ax.y)"
   ]
  },
  {
   "cell_type": "code",
   "execution_count": 5,
   "id": "atlantic-semester",
   "metadata": {},
   "outputs": [
    {
     "data": {
      "text/plain": [
       "<xbox360controller.controller.Xbox360Controller at 0x7f4b7c654af0>"
      ]
     },
     "execution_count": 5,
     "metadata": {},
     "output_type": "execute_result"
    }
   ],
   "source": [
    "controller"
   ]
  }
 ],
 "metadata": {
  "kernelspec": {
   "display_name": "Python 3",
   "language": "python",
   "name": "python3"
  },
  "language_info": {
   "codemirror_mode": {
    "name": "ipython",
    "version": 3
   },
   "file_extension": ".py",
   "mimetype": "text/x-python",
   "name": "python",
   "nbconvert_exporter": "python",
   "pygments_lexer": "ipython3",
   "version": "3.9.2"
  }
 },
 "nbformat": 4,
 "nbformat_minor": 5
}
